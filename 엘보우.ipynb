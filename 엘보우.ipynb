{
 "cells": [
  {
   "cell_type": "code",
   "execution_count": 1,
   "id": "cadbd55d",
   "metadata": {},
   "outputs": [],
   "source": [
    "import pandas as pd\n",
    "import seaborn as sns"
   ]
  },
  {
   "cell_type": "code",
   "execution_count": 2,
   "id": "87f5555d",
   "metadata": {},
   "outputs": [],
   "source": [
    "%matplotlib inline\n",
    "import matplotlib.pyplot as plt"
   ]
  },
  {
   "cell_type": "code",
   "execution_count": 3,
   "id": "b3e4fa0a",
   "metadata": {},
   "outputs": [],
   "source": [
    "import numpy as np"
   ]
  },
  {
   "cell_type": "code",
   "execution_count": 63,
   "id": "7892a4d1",
   "metadata": {},
   "outputs": [
    {
     "data": {
      "text/html": [
       "<div>\n",
       "<style scoped>\n",
       "    .dataframe tbody tr th:only-of-type {\n",
       "        vertical-align: middle;\n",
       "    }\n",
       "\n",
       "    .dataframe tbody tr th {\n",
       "        vertical-align: top;\n",
       "    }\n",
       "\n",
       "    .dataframe thead th {\n",
       "        text-align: right;\n",
       "    }\n",
       "</style>\n",
       "<table border=\"1\" class=\"dataframe\">\n",
       "  <thead>\n",
       "    <tr style=\"text-align: right;\">\n",
       "      <th></th>\n",
       "      <th>시군구</th>\n",
       "      <th>재정자립도</th>\n",
       "      <th>노인인구비율</th>\n",
       "      <th>기초생활수급자비율</th>\n",
       "      <th>10만명당 약국수</th>\n",
       "      <th>10만명당 안전상비의약품점포수</th>\n",
       "      <th>총인구수</th>\n",
       "      <th>기초생활수급자</th>\n",
       "      <th>안전상비의약품</th>\n",
       "      <th>자동차</th>\n",
       "      <th>10만면당 자동차수</th>\n",
       "    </tr>\n",
       "  </thead>\n",
       "  <tbody>\n",
       "    <tr>\n",
       "      <th>0</th>\n",
       "      <td>목포시</td>\n",
       "      <td>17.3</td>\n",
       "      <td>18.403979</td>\n",
       "      <td>1.528970</td>\n",
       "      <td>58.646693</td>\n",
       "      <td>117.755171</td>\n",
       "      <td>216551</td>\n",
       "      <td>3311</td>\n",
       "      <td>255</td>\n",
       "      <td>102292</td>\n",
       "      <td>47236.909550</td>\n",
       "    </tr>\n",
       "    <tr>\n",
       "      <th>1</th>\n",
       "      <td>여수시</td>\n",
       "      <td>29.3</td>\n",
       "      <td>20.934653</td>\n",
       "      <td>0.742100</td>\n",
       "      <td>49.157764</td>\n",
       "      <td>73.918711</td>\n",
       "      <td>274626</td>\n",
       "      <td>2038</td>\n",
       "      <td>203</td>\n",
       "      <td>143418</td>\n",
       "      <td>52223.023312</td>\n",
       "    </tr>\n",
       "    <tr>\n",
       "      <th>2</th>\n",
       "      <td>순천시</td>\n",
       "      <td>17.8</td>\n",
       "      <td>16.826932</td>\n",
       "      <td>0.546513</td>\n",
       "      <td>47.273704</td>\n",
       "      <td>72.343092</td>\n",
       "      <td>279225</td>\n",
       "      <td>1526</td>\n",
       "      <td>202</td>\n",
       "      <td>153944</td>\n",
       "      <td>55132.599158</td>\n",
       "    </tr>\n",
       "    <tr>\n",
       "      <th>3</th>\n",
       "      <td>나주시</td>\n",
       "      <td>16.8</td>\n",
       "      <td>23.296470</td>\n",
       "      <td>0.679426</td>\n",
       "      <td>50.935398</td>\n",
       "      <td>96.690926</td>\n",
       "      <td>115833</td>\n",
       "      <td>787</td>\n",
       "      <td>112</td>\n",
       "      <td>75025</td>\n",
       "      <td>64769.970561</td>\n",
       "    </tr>\n",
       "    <tr>\n",
       "      <th>4</th>\n",
       "      <td>광양시</td>\n",
       "      <td>25.3</td>\n",
       "      <td>14.324758</td>\n",
       "      <td>0.775685</td>\n",
       "      <td>35.648506</td>\n",
       "      <td>38.949293</td>\n",
       "      <td>151479</td>\n",
       "      <td>1175</td>\n",
       "      <td>59</td>\n",
       "      <td>93385</td>\n",
       "      <td>61648.809406</td>\n",
       "    </tr>\n",
       "    <tr>\n",
       "      <th>5</th>\n",
       "      <td>담양군</td>\n",
       "      <td>10.7</td>\n",
       "      <td>32.426017</td>\n",
       "      <td>0.518259</td>\n",
       "      <td>50.083836</td>\n",
       "      <td>124.120811</td>\n",
       "      <td>45923</td>\n",
       "      <td>238</td>\n",
       "      <td>57</td>\n",
       "      <td>31480</td>\n",
       "      <td>68549.528559</td>\n",
       "    </tr>\n",
       "    <tr>\n",
       "      <th>6</th>\n",
       "      <td>곡성군</td>\n",
       "      <td>8.3</td>\n",
       "      <td>37.925839</td>\n",
       "      <td>0.514498</td>\n",
       "      <td>58.799750</td>\n",
       "      <td>180.074235</td>\n",
       "      <td>27211</td>\n",
       "      <td>140</td>\n",
       "      <td>49</td>\n",
       "      <td>18243</td>\n",
       "      <td>67042.740068</td>\n",
       "    </tr>\n",
       "    <tr>\n",
       "      <th>7</th>\n",
       "      <td>구례군</td>\n",
       "      <td>7.1</td>\n",
       "      <td>36.338436</td>\n",
       "      <td>0.626733</td>\n",
       "      <td>44.192680</td>\n",
       "      <td>148.648106</td>\n",
       "      <td>24891</td>\n",
       "      <td>156</td>\n",
       "      <td>37</td>\n",
       "      <td>16530</td>\n",
       "      <td>66409.545619</td>\n",
       "    </tr>\n",
       "    <tr>\n",
       "      <th>8</th>\n",
       "      <td>고흥군</td>\n",
       "      <td>6.3</td>\n",
       "      <td>42.827717</td>\n",
       "      <td>0.560008</td>\n",
       "      <td>53.104181</td>\n",
       "      <td>49.885746</td>\n",
       "      <td>62142</td>\n",
       "      <td>348</td>\n",
       "      <td>31</td>\n",
       "      <td>38856</td>\n",
       "      <td>62527.759004</td>\n",
       "    </tr>\n",
       "    <tr>\n",
       "      <th>9</th>\n",
       "      <td>보성군</td>\n",
       "      <td>7.0</td>\n",
       "      <td>40.589750</td>\n",
       "      <td>0.731393</td>\n",
       "      <td>74.684522</td>\n",
       "      <td>77.259851</td>\n",
       "      <td>38830</td>\n",
       "      <td>284</td>\n",
       "      <td>30</td>\n",
       "      <td>26600</td>\n",
       "      <td>68503.734226</td>\n",
       "    </tr>\n",
       "    <tr>\n",
       "      <th>10</th>\n",
       "      <td>화순군</td>\n",
       "      <td>13.9</td>\n",
       "      <td>28.067184</td>\n",
       "      <td>0.900930</td>\n",
       "      <td>51.481708</td>\n",
       "      <td>46.655298</td>\n",
       "      <td>62158</td>\n",
       "      <td>560</td>\n",
       "      <td>29</td>\n",
       "      <td>36214</td>\n",
       "      <td>58261.205315</td>\n",
       "    </tr>\n",
       "    <tr>\n",
       "      <th>11</th>\n",
       "      <td>장흥군</td>\n",
       "      <td>7.0</td>\n",
       "      <td>36.193999</td>\n",
       "      <td>0.784226</td>\n",
       "      <td>50.057009</td>\n",
       "      <td>77.866459</td>\n",
       "      <td>35959</td>\n",
       "      <td>282</td>\n",
       "      <td>28</td>\n",
       "      <td>23366</td>\n",
       "      <td>64979.560055</td>\n",
       "    </tr>\n",
       "    <tr>\n",
       "      <th>12</th>\n",
       "      <td>강진군</td>\n",
       "      <td>7.8</td>\n",
       "      <td>36.533838</td>\n",
       "      <td>0.697199</td>\n",
       "      <td>48.082702</td>\n",
       "      <td>69.118884</td>\n",
       "      <td>33276</td>\n",
       "      <td>232</td>\n",
       "      <td>23</td>\n",
       "      <td>22220</td>\n",
       "      <td>66774.852747</td>\n",
       "    </tr>\n",
       "    <tr>\n",
       "      <th>13</th>\n",
       "      <td>해남군</td>\n",
       "      <td>7.7</td>\n",
       "      <td>34.324667</td>\n",
       "      <td>0.526332</td>\n",
       "      <td>54.292091</td>\n",
       "      <td>28.654159</td>\n",
       "      <td>66308</td>\n",
       "      <td>349</td>\n",
       "      <td>19</td>\n",
       "      <td>46778</td>\n",
       "      <td>70546.540387</td>\n",
       "    </tr>\n",
       "    <tr>\n",
       "      <th>14</th>\n",
       "      <td>영암군</td>\n",
       "      <td>10.8</td>\n",
       "      <td>28.059192</td>\n",
       "      <td>0.648833</td>\n",
       "      <td>39.840637</td>\n",
       "      <td>34.149118</td>\n",
       "      <td>52710</td>\n",
       "      <td>342</td>\n",
       "      <td>18</td>\n",
       "      <td>39288</td>\n",
       "      <td>74536.141150</td>\n",
       "    </tr>\n",
       "    <tr>\n",
       "      <th>15</th>\n",
       "      <td>무안군</td>\n",
       "      <td>11.7</td>\n",
       "      <td>20.004177</td>\n",
       "      <td>0.455115</td>\n",
       "      <td>42.873161</td>\n",
       "      <td>15.390366</td>\n",
       "      <td>90966</td>\n",
       "      <td>414</td>\n",
       "      <td>14</td>\n",
       "      <td>55157</td>\n",
       "      <td>60634.742651</td>\n",
       "    </tr>\n",
       "    <tr>\n",
       "      <th>16</th>\n",
       "      <td>함평군</td>\n",
       "      <td>7.6</td>\n",
       "      <td>38.692946</td>\n",
       "      <td>0.483013</td>\n",
       "      <td>48.625519</td>\n",
       "      <td>35.658714</td>\n",
       "      <td>30848</td>\n",
       "      <td>149</td>\n",
       "      <td>11</td>\n",
       "      <td>22976</td>\n",
       "      <td>74481.327801</td>\n",
       "    </tr>\n",
       "    <tr>\n",
       "      <th>17</th>\n",
       "      <td>영광군</td>\n",
       "      <td>12.9</td>\n",
       "      <td>30.316820</td>\n",
       "      <td>0.664363</td>\n",
       "      <td>61.443932</td>\n",
       "      <td>19.201229</td>\n",
       "      <td>52080</td>\n",
       "      <td>346</td>\n",
       "      <td>10</td>\n",
       "      <td>34564</td>\n",
       "      <td>66367.127496</td>\n",
       "    </tr>\n",
       "    <tr>\n",
       "      <th>18</th>\n",
       "      <td>장성군</td>\n",
       "      <td>11.2</td>\n",
       "      <td>31.949668</td>\n",
       "      <td>0.601291</td>\n",
       "      <td>41.788550</td>\n",
       "      <td>23.215861</td>\n",
       "      <td>43074</td>\n",
       "      <td>259</td>\n",
       "      <td>10</td>\n",
       "      <td>30356</td>\n",
       "      <td>70474.067883</td>\n",
       "    </tr>\n",
       "    <tr>\n",
       "      <th>19</th>\n",
       "      <td>완도군</td>\n",
       "      <td>6.5</td>\n",
       "      <td>34.468850</td>\n",
       "      <td>0.376183</td>\n",
       "      <td>43.888065</td>\n",
       "      <td>20.899078</td>\n",
       "      <td>47849</td>\n",
       "      <td>180</td>\n",
       "      <td>10</td>\n",
       "      <td>29103</td>\n",
       "      <td>60822.587724</td>\n",
       "    </tr>\n",
       "    <tr>\n",
       "      <th>20</th>\n",
       "      <td>진도군</td>\n",
       "      <td>8.5</td>\n",
       "      <td>35.345118</td>\n",
       "      <td>0.664598</td>\n",
       "      <td>47.230281</td>\n",
       "      <td>23.615141</td>\n",
       "      <td>29642</td>\n",
       "      <td>197</td>\n",
       "      <td>7</td>\n",
       "      <td>19725</td>\n",
       "      <td>66544.092841</td>\n",
       "    </tr>\n",
       "    <tr>\n",
       "      <th>21</th>\n",
       "      <td>신안군</td>\n",
       "      <td>6.7</td>\n",
       "      <td>38.304987</td>\n",
       "      <td>0.313306</td>\n",
       "      <td>23.695435</td>\n",
       "      <td>13.164130</td>\n",
       "      <td>37982</td>\n",
       "      <td>119</td>\n",
       "      <td>5</td>\n",
       "      <td>24988</td>\n",
       "      <td>65789.057975</td>\n",
       "    </tr>\n",
       "  </tbody>\n",
       "</table>\n",
       "</div>"
      ],
      "text/plain": [
       "    시군구  재정자립도     노인인구비율  기초생활수급자비율  10만명당 약국수  10만명당 안전상비의약품점포수    총인구수  \\\n",
       "0   목포시   17.3  18.403979   1.528970  58.646693        117.755171  216551   \n",
       "1   여수시   29.3  20.934653   0.742100  49.157764         73.918711  274626   \n",
       "2   순천시   17.8  16.826932   0.546513  47.273704         72.343092  279225   \n",
       "3   나주시   16.8  23.296470   0.679426  50.935398         96.690926  115833   \n",
       "4   광양시   25.3  14.324758   0.775685  35.648506         38.949293  151479   \n",
       "5   담양군   10.7  32.426017   0.518259  50.083836        124.120811   45923   \n",
       "6   곡성군    8.3  37.925839   0.514498  58.799750        180.074235   27211   \n",
       "7   구례군    7.1  36.338436   0.626733  44.192680        148.648106   24891   \n",
       "8   고흥군    6.3  42.827717   0.560008  53.104181         49.885746   62142   \n",
       "9   보성군    7.0  40.589750   0.731393  74.684522         77.259851   38830   \n",
       "10  화순군   13.9  28.067184   0.900930  51.481708         46.655298   62158   \n",
       "11  장흥군    7.0  36.193999   0.784226  50.057009         77.866459   35959   \n",
       "12  강진군    7.8  36.533838   0.697199  48.082702         69.118884   33276   \n",
       "13  해남군    7.7  34.324667   0.526332  54.292091         28.654159   66308   \n",
       "14  영암군   10.8  28.059192   0.648833  39.840637         34.149118   52710   \n",
       "15  무안군   11.7  20.004177   0.455115  42.873161         15.390366   90966   \n",
       "16  함평군    7.6  38.692946   0.483013  48.625519         35.658714   30848   \n",
       "17  영광군   12.9  30.316820   0.664363  61.443932         19.201229   52080   \n",
       "18  장성군   11.2  31.949668   0.601291  41.788550         23.215861   43074   \n",
       "19  완도군    6.5  34.468850   0.376183  43.888065         20.899078   47849   \n",
       "20  진도군    8.5  35.345118   0.664598  47.230281         23.615141   29642   \n",
       "21  신안군    6.7  38.304987   0.313306  23.695435         13.164130   37982   \n",
       "\n",
       "    기초생활수급자  안전상비의약품     자동차    10만면당 자동차수  \n",
       "0      3311      255  102292  47236.909550  \n",
       "1      2038      203  143418  52223.023312  \n",
       "2      1526      202  153944  55132.599158  \n",
       "3       787      112   75025  64769.970561  \n",
       "4      1175       59   93385  61648.809406  \n",
       "5       238       57   31480  68549.528559  \n",
       "6       140       49   18243  67042.740068  \n",
       "7       156       37   16530  66409.545619  \n",
       "8       348       31   38856  62527.759004  \n",
       "9       284       30   26600  68503.734226  \n",
       "10      560       29   36214  58261.205315  \n",
       "11      282       28   23366  64979.560055  \n",
       "12      232       23   22220  66774.852747  \n",
       "13      349       19   46778  70546.540387  \n",
       "14      342       18   39288  74536.141150  \n",
       "15      414       14   55157  60634.742651  \n",
       "16      149       11   22976  74481.327801  \n",
       "17      346       10   34564  66367.127496  \n",
       "18      259       10   30356  70474.067883  \n",
       "19      180       10   29103  60822.587724  \n",
       "20      197        7   19725  66544.092841  \n",
       "21      119        5   24988  65789.057975  "
      ]
     },
     "execution_count": 63,
     "metadata": {},
     "output_type": "execute_result"
    }
   ],
   "source": [
    "df = pd.read_excel('ph.xlsx')\n",
    "df"
   ]
  },
  {
   "cell_type": "code",
   "execution_count": 86,
   "id": "f60328a8",
   "metadata": {},
   "outputs": [],
   "source": [
    "df = df[['재정자립도','노인인구비율','기초생활수급자비율','10만명당 약국수','10만명당 안전상비의약품점포수','10만면당 자동차수']]"
   ]
  },
  {
   "cell_type": "code",
   "execution_count": 87,
   "id": "e72fb8f5",
   "metadata": {},
   "outputs": [],
   "source": [
    "corr = df.corr()"
   ]
  },
  {
   "cell_type": "code",
   "execution_count": 88,
   "id": "33c5687f",
   "metadata": {},
   "outputs": [
    {
     "data": {
      "text/plain": [
       "<Figure size 1440x1080 with 0 Axes>"
      ]
     },
     "execution_count": 88,
     "metadata": {},
     "output_type": "execute_result"
    },
    {
     "data": {
      "text/plain": [
       "<Figure size 1440x1080 with 0 Axes>"
      ]
     },
     "metadata": {},
     "output_type": "display_data"
    }
   ],
   "source": [
    "plt.figure(figsize=(20,15))"
   ]
  },
  {
   "cell_type": "code",
   "execution_count": 89,
   "id": "280ebe9a",
   "metadata": {},
   "outputs": [],
   "source": [
    "from matplotlib import font_manager, rc\n",
    "\n",
    "import matplotlib\n",
    "\n",
    "font_location='c:/Windows/fonts/malgun.ttf'\n",
    "\n",
    "font_name=font_manager.FontProperties(fname=font_location).get_name()\n",
    "\n",
    "matplotlib.rc('font',family=font_name)"
   ]
  },
  {
   "cell_type": "code",
   "execution_count": 90,
   "id": "9e63aabc",
   "metadata": {},
   "outputs": [
    {
     "name": "stderr",
     "output_type": "stream",
     "text": [
      "C:\\Users\\Kang\\AppData\\Local\\Temp/ipykernel_25968/519181320.py:1: DeprecationWarning: `np.bool` is a deprecated alias for the builtin `bool`. To silence this warning, use `bool` by itself. Doing this will not modify any behavior and is safe. If you specifically wanted the numpy scalar type, use `np.bool_` here.\n",
      "Deprecated in NumPy 1.20; for more details and guidance: https://numpy.org/devdocs/release/1.20.0-notes.html#deprecations\n",
      "  mask = np.zeros_like(corr,dtype=np.bool)\n"
     ]
    }
   ],
   "source": [
    "mask = np.zeros_like(corr,dtype=np.bool)\n",
    "mask[np.triu_indices_from(mask)] = True"
   ]
  },
  {
   "cell_type": "code",
   "execution_count": 91,
   "id": "64dfe99a",
   "metadata": {},
   "outputs": [
    {
     "data": {
      "image/png": "[encoded data removed]",
      "text/plain": [
       "<Figure size 576x396 with 2 Axes>"
      ]
     },
     "metadata": {},
     "output_type": "display_data"
    }
   ],
   "source": [
    "sns.heatmap(data=corr, \n",
    "           annot = True,\n",
    "           mask=mask,\n",
    "           fmt='.2f',\n",
    "           linewidths=1,\n",
    "           cmap='RdYlBu_r')\n",
    "plt.show()"
   ]
  },
  {
   "cell_type": "code",
   "execution_count": 92,
   "id": "1a37422d",
   "metadata": {},
   "outputs": [],
   "source": [
    "from sklearn.model_selection import train_test_split\n",
    "from sklearn.tree import DecisionTreeClassifier\n",
    "from sklearn.datasets import load_breast_cancer"
   ]
  },
  {
   "cell_type": "code",
   "execution_count": 94,
   "id": "402516cf",
   "metadata": {},
   "outputs": [],
   "source": [
    "from sklearn.preprocessing import MinMaxScaler\n",
    "\n",
    "# 두 가지 feature를 대상\n",
    "data = df[['재정자립도','노인인구비율','기초생활수급자비율','10만명당 약국수','10만명당 안전상비의약품점포수','10만면당 자동차수']]\n",
    "\n",
    "# 정규화 진행\n",
    "scaler = MinMaxScaler()\n",
    "data_scale = scaler.fit_transform(data)"
   ]
  },
  {
   "cell_type": "code",
   "execution_count": 95,
   "id": "09f54717",
   "metadata": {},
   "outputs": [
    {
     "data": {
      "text/plain": [
       "array([[0.47826087, 0.1431157 , 1.        , 0.68546546, 0.62663097,\n",
       "        0.        ],\n",
       "       [1.        , 0.23190206, 0.35272406, 0.4993682 , 0.36399582,\n",
       "        0.18264667],\n",
       "       [0.5       , 0.08778646, 0.19183459, 0.46241795, 0.3545559 ,\n",
       "        0.28922754],\n",
       "       [0.45652174, 0.31476423, 0.30116889, 0.53423124, 0.50042983,\n",
       "        0.64225474],\n",
       "       [0.82608696, 0.        , 0.38035087, 0.2344241 , 0.15448533,\n",
       "        0.52792328],\n",
       "       [0.19130435, 0.63506597, 0.1685931 , 0.51753037, 0.6647691 ,\n",
       "        0.78070399],\n",
       "       [0.08695652, 0.82802213, 0.16549931, 0.68846722, 1.        ,\n",
       "        0.72550872],\n",
       "       [0.03478261, 0.77232955, 0.25782314, 0.40199279, 0.81171824,\n",
       "        0.70231413],\n",
       "       [0.        , 1.        , 0.20293557, 0.57676549, 0.22000834,\n",
       "        0.56012014],\n",
       "       [0.03043478, 0.921483  , 0.3439166 , 1.        , 0.38401342,\n",
       "        0.77902649],\n",
       "       [0.33043478, 0.48214031, 0.48337673, 0.54494549, 0.20065392,\n",
       "        0.40383172],\n",
       "       [0.03043478, 0.76726212, 0.38737699, 0.51700424, 0.38764776,\n",
       "        0.64993223],\n",
       "       [0.06521739, 0.77918507, 0.3157887 , 0.47828405, 0.33523887,\n",
       "        0.71569572],\n",
       "       [0.06086957, 0.70167833, 0.17523378, 0.60006284, 0.09280462,\n",
       "        0.85385666],\n",
       "       [0.19565217, 0.48185993, 0.27600307, 0.31664035, 0.12572629,\n",
       "        1.        ],\n",
       "       [0.23478261, 0.19925719, 0.11665133, 0.37611433, 0.01333793,\n",
       "        0.49077693],\n",
       "       [0.05652174, 0.85493537, 0.13960043, 0.48892979, 0.13477065,\n",
       "        0.99799213],\n",
       "       [0.28695652, 0.56106674, 0.28877739, 0.74032503, 0.03616976,\n",
       "        0.70076031],\n",
       "       [0.21304348, 0.61835369, 0.23689486, 0.35484289, 0.06022242,\n",
       "        0.85120192],\n",
       "       [0.00869565, 0.70673686, 0.05172245, 0.39601865, 0.046342  ,\n",
       "        0.4976579 ],\n",
       "       [0.09565217, 0.73747993, 0.28897071, 0.46156634, 0.06261461,\n",
       "        0.70724274],\n",
       "       [0.0173913 , 0.84132417, 0.        , 0.        , 0.        ,\n",
       "        0.679585  ]])"
      ]
     },
     "execution_count": 95,
     "metadata": {},
     "output_type": "execute_result"
    }
   ],
   "source": [
    "data_scale"
   ]
  },
  {
   "cell_type": "code",
   "execution_count": 96,
   "id": "2bf81d52",
   "metadata": {},
   "outputs": [
    {
     "name": "stderr",
     "output_type": "stream",
     "text": [
      "C:\\Users\\Kang\\anaconda3\\lib\\site-packages\\sklearn\\cluster\\_kmeans.py:1334: UserWarning: KMeans is known to have a memory leak on Windows with MKL, when there are less chunks than available threads. You can avoid it by setting the environment variable OMP_NUM_THREADS=1.\n",
      "  warnings.warn(\n",
      "C:\\Users\\Kang\\anaconda3\\lib\\site-packages\\sklearn\\cluster\\_kmeans.py:1334: UserWarning: KMeans is known to have a memory leak on Windows with MKL, when there are less chunks than available threads. You can avoid it by setting the environment variable OMP_NUM_THREADS=1.\n",
      "  warnings.warn(\n",
      "C:\\Users\\Kang\\AppData\\Local\\Temp/ipykernel_25968/852914301.py:12: SettingWithCopyWarning: \n",
      "A value is trying to be set on a copy of a slice from a DataFrame.\n",
      "Try using .loc[row_indexer,col_indexer] = value instead\n",
      "\n",
      "See the caveats in the documentation: https://pandas.pydata.org/pandas-docs/stable/user_guide/indexing.html#returning-a-view-versus-a-copy\n",
      "  df['cluster'] = model.fit_predict(data_scale)\n"
     ]
    }
   ],
   "source": [
    "from sklearn.cluster import KMeans\n",
    "\n",
    "k = 3\n",
    "\n",
    "# 그룹 수, random_state 설정\n",
    "model = KMeans(n_clusters = k, random_state = 10)\n",
    "\n",
    "# 정규화된 데이터에 학습\n",
    "model.fit(data_scale)\n",
    "\n",
    "# 클러스터링 결과 각 데이터가 몇 번째 그룹에 속하는지 저장\n",
    "df['cluster'] = model.fit_predict(data_scale)"
   ]
  },
  {
   "cell_type": "code",
   "execution_count": 97,
   "id": "367b7113",
   "metadata": {},
   "outputs": [
    {
     "name": "stderr",
     "output_type": "stream",
     "text": [
      "C:\\Users\\Kang\\anaconda3\\lib\\site-packages\\sklearn\\cluster\\_kmeans.py:1334: UserWarning: KMeans is known to have a memory leak on Windows with MKL, when there are less chunks than available threads. You can avoid it by setting the environment variable OMP_NUM_THREADS=1.\n",
      "  warnings.warn(\n",
      "C:\\Users\\Kang\\anaconda3\\lib\\site-packages\\sklearn\\cluster\\_kmeans.py:1334: UserWarning: KMeans is known to have a memory leak on Windows with MKL, when there are less chunks than available threads. You can avoid it by setting the environment variable OMP_NUM_THREADS=1.\n",
      "  warnings.warn(\n",
      "C:\\Users\\Kang\\anaconda3\\lib\\site-packages\\sklearn\\cluster\\_kmeans.py:1334: UserWarning: KMeans is known to have a memory leak on Windows with MKL, when there are less chunks than available threads. You can avoid it by setting the environment variable OMP_NUM_THREADS=1.\n",
      "  warnings.warn(\n",
      "C:\\Users\\Kang\\anaconda3\\lib\\site-packages\\sklearn\\cluster\\_kmeans.py:1334: UserWarning: KMeans is known to have a memory leak on Windows with MKL, when there are less chunks than available threads. You can avoid it by setting the environment variable OMP_NUM_THREADS=1.\n",
      "  warnings.warn(\n",
      "C:\\Users\\Kang\\anaconda3\\lib\\site-packages\\sklearn\\cluster\\_kmeans.py:1334: UserWarning: KMeans is known to have a memory leak on Windows with MKL, when there are less chunks than available threads. You can avoid it by setting the environment variable OMP_NUM_THREADS=1.\n",
      "  warnings.warn(\n",
      "C:\\Users\\Kang\\anaconda3\\lib\\site-packages\\sklearn\\cluster\\_kmeans.py:1334: UserWarning: KMeans is known to have a memory leak on Windows with MKL, when there are less chunks than available threads. You can avoid it by setting the environment variable OMP_NUM_THREADS=1.\n",
      "  warnings.warn(\n",
      "C:\\Users\\Kang\\anaconda3\\lib\\site-packages\\sklearn\\cluster\\_kmeans.py:1334: UserWarning: KMeans is known to have a memory leak on Windows with MKL, when there are less chunks than available threads. You can avoid it by setting the environment variable OMP_NUM_THREADS=1.\n",
      "  warnings.warn(\n",
      "C:\\Users\\Kang\\anaconda3\\lib\\site-packages\\sklearn\\cluster\\_kmeans.py:1334: UserWarning: KMeans is known to have a memory leak on Windows with MKL, when there are less chunks than available threads. You can avoid it by setting the environment variable OMP_NUM_THREADS=1.\n",
      "  warnings.warn(\n",
      "C:\\Users\\Kang\\anaconda3\\lib\\site-packages\\sklearn\\cluster\\_kmeans.py:1334: UserWarning: KMeans is known to have a memory leak on Windows with MKL, when there are less chunks than available threads. You can avoid it by setting the environment variable OMP_NUM_THREADS=1.\n",
      "  warnings.warn(\n"
     ]
    },
    {
     "data": {
      "text/html": [
       "<style>#sk-container-id-8 {color: black;background-color: white;}#sk-container-id-8 pre{padding: 0;}#sk-container-id-8 div.sk-toggleable {background-color: white;}#sk-container-id-8 label.sk-toggleable__label {cursor: pointer;display: block;width: 100%;margin-bottom: 0;padding: 0.3em;box-sizing: border-box;text-align: center;}#sk-container-id-8 label.sk-toggleable__label-arrow:before {content: \"▸\";float: left;margin-right: 0.25em;color: #696969;}#sk-container-id-8 label.sk-toggleable__label-arrow:hover:before {color: black;}#sk-container-id-8 div.sk-estimator:hover label.sk-toggleable__label-arrow:before {color: black;}#sk-container-id-8 div.sk-toggleable__content {max-height: 0;max-width: 0;overflow: hidden;text-align: left;background-color: #f0f8ff;}#sk-container-id-8 div.sk-toggleable__content pre {margin: 0.2em;color: black;border-radius: 0.25em;background-color: #f0f8ff;}#sk-container-id-8 input.sk-toggleable__control:checked~div.sk-toggleable__content {max-height: 200px;max-width: 100%;overflow: auto;}#sk-container-id-8 input.sk-toggleable__control:checked~label.sk-toggleable__label-arrow:before {content: \"▾\";}#sk-container-id-8 div.sk-estimator input.sk-toggleable__control:checked~label.sk-toggleable__label {background-color: #d4ebff;}#sk-container-id-8 div.sk-label input.sk-toggleable__control:checked~label.sk-toggleable__label {background-color: #d4ebff;}#sk-container-id-8 input.sk-hidden--visually {border: 0;clip: rect(1px 1px 1px 1px);clip: rect(1px, 1px, 1px, 1px);height: 1px;margin: -1px;overflow: hidden;padding: 0;position: absolute;width: 1px;}#sk-container-id-8 div.sk-estimator {font-family: monospace;background-color: #f0f8ff;border: 1px dotted black;border-radius: 0.25em;box-sizing: border-box;margin-bottom: 0.5em;}#sk-container-id-8 div.sk-estimator:hover {background-color: #d4ebff;}#sk-container-id-8 div.sk-parallel-item::after {content: \"\";width: 100%;border-bottom: 1px solid gray;flex-grow: 1;}#sk-container-id-8 div.sk-label:hover label.sk-toggleable__label {background-color: #d4ebff;}#sk-container-id-8 div.sk-serial::before {content: \"\";position: absolute;border-left: 1px solid gray;box-sizing: border-box;top: 0;bottom: 0;left: 50%;z-index: 0;}#sk-container-id-8 div.sk-serial {display: flex;flex-direction: column;align-items: center;background-color: white;padding-right: 0.2em;padding-left: 0.2em;position: relative;}#sk-container-id-8 div.sk-item {position: relative;z-index: 1;}#sk-container-id-8 div.sk-parallel {display: flex;align-items: stretch;justify-content: center;background-color: white;position: relative;}#sk-container-id-8 div.sk-item::before, #sk-container-id-8 div.sk-parallel-item::before {content: \"\";position: absolute;border-left: 1px solid gray;box-sizing: border-box;top: 0;bottom: 0;left: 50%;z-index: -1;}#sk-container-id-8 div.sk-parallel-item {display: flex;flex-direction: column;z-index: 1;position: relative;background-color: white;}#sk-container-id-8 div.sk-parallel-item:first-child::after {align-self: flex-end;width: 50%;}#sk-container-id-8 div.sk-parallel-item:last-child::after {align-self: flex-start;width: 50%;}#sk-container-id-8 div.sk-parallel-item:only-child::after {width: 0;}#sk-container-id-8 div.sk-dashed-wrapped {border: 1px dashed gray;margin: 0 0.4em 0.5em 0.4em;box-sizing: border-box;padding-bottom: 0.4em;background-color: white;}#sk-container-id-8 div.sk-label label {font-family: monospace;font-weight: bold;display: inline-block;line-height: 1.2em;}#sk-container-id-8 div.sk-label-container {text-align: center;}#sk-container-id-8 div.sk-container {/* jupyter's `normalize.less` sets `[hidden] { display: none; }` but bootstrap.min.css set `[hidden] { display: none !important; }` so we also need the `!important` here to be able to override the default hidden behavior on the sphinx rendered scikit-learn.org. See: https://github.com/scikit-learn/scikit-learn/issues/21755 */display: inline-block !important;position: relative;}#sk-container-id-8 div.sk-text-repr-fallback {display: none;}</style><div id=\"sk-container-id-8\" class=\"sk-top-container\"><div class=\"sk-text-repr-fallback\"><pre>KElbowVisualizer(ax=&lt;AxesSubplot:&gt;, estimator=KMeans(n_clusters=9), k=(1, 10))</pre><b>In a Jupyter environment, please rerun this cell to show the HTML representation or trust the notebook. <br />On GitHub, the HTML representation is unable to render, please try loading this page with nbviewer.org.</b></div><div class=\"sk-container\" hidden><div class=\"sk-item sk-dashed-wrapped\"><div class=\"sk-label-container\"><div class=\"sk-label sk-toggleable\"><input class=\"sk-toggleable__control sk-hidden--visually\" id=\"sk-estimator-id-22\" type=\"checkbox\" ><label for=\"sk-estimator-id-22\" class=\"sk-toggleable__label sk-toggleable__label-arrow\">KElbowVisualizer</label><div class=\"sk-toggleable__content\"><pre>KElbowVisualizer(ax=&lt;AxesSubplot:&gt;, estimator=KMeans(n_clusters=9), k=(1, 10))</pre></div></div></div><div class=\"sk-parallel\"><div class=\"sk-parallel-item\"><div class=\"sk-item\"><div class=\"sk-label-container\"><div class=\"sk-label sk-toggleable\"><input class=\"sk-toggleable__control sk-hidden--visually\" id=\"sk-estimator-id-23\" type=\"checkbox\" ><label for=\"sk-estimator-id-23\" class=\"sk-toggleable__label sk-toggleable__label-arrow\">estimator: KMeans</label><div class=\"sk-toggleable__content\"><pre>KMeans(n_clusters=9)</pre></div></div></div><div class=\"sk-serial\"><div class=\"sk-item\"><div class=\"sk-estimator sk-toggleable\"><input class=\"sk-toggleable__control sk-hidden--visually\" id=\"sk-estimator-id-24\" type=\"checkbox\" ><label for=\"sk-estimator-id-24\" class=\"sk-toggleable__label sk-toggleable__label-arrow\">KMeans</label><div class=\"sk-toggleable__content\"><pre>KMeans(n_clusters=9)</pre></div></div></div></div></div></div></div></div></div></div>"
      ],
      "text/plain": [
       "KElbowVisualizer(ax=<AxesSubplot:>, estimator=KMeans(n_clusters=9), k=(1, 10))"
      ]
     },
     "execution_count": 97,
     "metadata": {},
     "output_type": "execute_result"
    },
    {
     "data": {
      "image/png": "[encoded data removed]",
      "text/plain": [
       "<Figure size 576x396 with 2 Axes>"
      ]
     },
     "metadata": {},
     "output_type": "display_data"
    }
   ],
   "source": [
    "from yellowbrick.cluster import KElbowVisualizer\n",
    "\n",
    "model = KMeans()\n",
    "visualizer = KElbowVisualizer(model,k=(1,10))\n",
    "visualizer.fit(data_scale)"
   ]
  },
  {
   "cell_type": "code",
   "execution_count": 1,
   "id": "fc1694fd",
   "metadata": {},
   "outputs": [],
   "source": [
    "import pandas as pd"
   ]
  },
  {
   "cell_type": "code",
   "execution_count": 16,
   "id": "106b2604",
   "metadata": {},
   "outputs": [],
   "source": [
    "df = {'cluster':['재정자립도','고령인구 비율', '10만 명당 약국 수','10만 명당 자동차 수'],\n",
    "      0:[1.173018, -1.285672, -0.091799, -1.091774],\n",
    "      1:[-0.550149, 0.503139, -0.526289, 0.557231],\n",
    "      2:[-0.541929, 0.793662, 1.181096, 0.414022]}"
   ]
  },
  {
   "cell_type": "code",
   "execution_count": 17,
   "id": "d615e6b6",
   "metadata": {},
   "outputs": [
    {
     "data": {
      "text/plain": [
       "{'cluster': ['재정자립도', '고령인구 비율', '10만 명당 약국 수', '10만 명당 자동차 수'],\n",
       " 0: [1.173018, -1.285672, -0.091799, -1.091774],\n",
       " 1: [-0.550149, 0.503139, -0.526289, 0.557231],\n",
       " 2: [-0.541929, 0.793662, 1.181096, 0.414022]}"
      ]
     },
     "execution_count": 17,
     "metadata": {},
     "output_type": "execute_result"
    }
   ],
   "source": [
    "df"
   ]
  },
  {
   "cell_type": "code",
   "execution_count": 18,
   "id": "c4f51414",
   "metadata": {},
   "outputs": [],
   "source": [
    "a = pd.DataFrame(df)"
   ]
  },
  {
   "cell_type": "code",
   "execution_count": 19,
   "id": "33c2ea24",
   "metadata": {},
   "outputs": [
    {
     "data": {
      "text/html": [
       "<div>\n",
       "<style scoped>\n",
       "    .dataframe tbody tr th:only-of-type {\n",
       "        vertical-align: middle;\n",
       "    }\n",
       "\n",
       "    .dataframe tbody tr th {\n",
       "        vertical-align: top;\n",
       "    }\n",
       "\n",
       "    .dataframe thead th {\n",
       "        text-align: right;\n",
       "    }\n",
       "</style>\n",
       "<table border=\"1\" class=\"dataframe\">\n",
       "  <thead>\n",
       "    <tr style=\"text-align: right;\">\n",
       "      <th></th>\n",
       "      <th>cluster</th>\n",
       "      <th>0</th>\n",
       "      <th>1</th>\n",
       "      <th>2</th>\n",
       "    </tr>\n",
       "  </thead>\n",
       "  <tbody>\n",
       "    <tr>\n",
       "      <th>0</th>\n",
       "      <td>재정자립도</td>\n",
       "      <td>1.173018</td>\n",
       "      <td>-0.550149</td>\n",
       "      <td>-0.541929</td>\n",
       "    </tr>\n",
       "    <tr>\n",
       "      <th>1</th>\n",
       "      <td>고령인구 비율</td>\n",
       "      <td>-1.285672</td>\n",
       "      <td>0.503139</td>\n",
       "      <td>0.793662</td>\n",
       "    </tr>\n",
       "    <tr>\n",
       "      <th>2</th>\n",
       "      <td>10만 명당 약국 수</td>\n",
       "      <td>-0.091799</td>\n",
       "      <td>-0.526289</td>\n",
       "      <td>1.181096</td>\n",
       "    </tr>\n",
       "    <tr>\n",
       "      <th>3</th>\n",
       "      <td>10만 명당 자동차 수</td>\n",
       "      <td>-1.091774</td>\n",
       "      <td>0.557231</td>\n",
       "      <td>0.414022</td>\n",
       "    </tr>\n",
       "  </tbody>\n",
       "</table>\n",
       "</div>"
      ],
      "text/plain": [
       "        cluster         0         1         2\n",
       "0         재정자립도  1.173018 -0.550149 -0.541929\n",
       "1       고령인구 비율 -1.285672  0.503139  0.793662\n",
       "2   10만 명당 약국 수 -0.091799 -0.526289  1.181096\n",
       "3  10만 명당 자동차 수 -1.091774  0.557231  0.414022"
      ]
     },
     "execution_count": 19,
     "metadata": {},
     "output_type": "execute_result"
    }
   ],
   "source": [
    "a"
   ]
  },
  {
   "cell_type": "code",
   "execution_count": 20,
   "id": "87f4a470",
   "metadata": {},
   "outputs": [],
   "source": [
    "a = a.set_index('cluster')"
   ]
  },
  {
   "cell_type": "code",
   "execution_count": 21,
   "id": "882b9f3f",
   "metadata": {},
   "outputs": [
    {
     "data": {
      "text/html": [
       "<div>\n",
       "<style scoped>\n",
       "    .dataframe tbody tr th:only-of-type {\n",
       "        vertical-align: middle;\n",
       "    }\n",
       "\n",
       "    .dataframe tbody tr th {\n",
       "        vertical-align: top;\n",
       "    }\n",
       "\n",
       "    .dataframe thead th {\n",
       "        text-align: right;\n",
       "    }\n",
       "</style>\n",
       "<table border=\"1\" class=\"dataframe\">\n",
       "  <thead>\n",
       "    <tr style=\"text-align: right;\">\n",
       "      <th></th>\n",
       "      <th>0</th>\n",
       "      <th>1</th>\n",
       "      <th>2</th>\n",
       "    </tr>\n",
       "    <tr>\n",
       "      <th>cluster</th>\n",
       "      <th></th>\n",
       "      <th></th>\n",
       "      <th></th>\n",
       "    </tr>\n",
       "  </thead>\n",
       "  <tbody>\n",
       "    <tr>\n",
       "      <th>재정자립도</th>\n",
       "      <td>1.173018</td>\n",
       "      <td>-0.550149</td>\n",
       "      <td>-0.541929</td>\n",
       "    </tr>\n",
       "    <tr>\n",
       "      <th>고령인구 비율</th>\n",
       "      <td>-1.285672</td>\n",
       "      <td>0.503139</td>\n",
       "      <td>0.793662</td>\n",
       "    </tr>\n",
       "    <tr>\n",
       "      <th>10만 명당 약국 수</th>\n",
       "      <td>-0.091799</td>\n",
       "      <td>-0.526289</td>\n",
       "      <td>1.181096</td>\n",
       "    </tr>\n",
       "    <tr>\n",
       "      <th>10만 명당 자동차 수</th>\n",
       "      <td>-1.091774</td>\n",
       "      <td>0.557231</td>\n",
       "      <td>0.414022</td>\n",
       "    </tr>\n",
       "  </tbody>\n",
       "</table>\n",
       "</div>"
      ],
      "text/plain": [
       "                     0         1         2\n",
       "cluster                                   \n",
       "재정자립도         1.173018 -0.550149 -0.541929\n",
       "고령인구 비율      -1.285672  0.503139  0.793662\n",
       "10만 명당 약국 수  -0.091799 -0.526289  1.181096\n",
       "10만 명당 자동차 수 -1.091774  0.557231  0.414022"
      ]
     },
     "execution_count": 21,
     "metadata": {},
     "output_type": "execute_result"
    }
   ],
   "source": [
    "a"
   ]
  },
  {
   "cell_type": "code",
   "execution_count": 22,
   "id": "a78385a0",
   "metadata": {},
   "outputs": [
    {
     "data": {
      "text/plain": [
       "Index([0, 1, 2], dtype='object')"
      ]
     },
     "execution_count": 22,
     "metadata": {},
     "output_type": "execute_result"
    }
   ],
   "source": [
    "a.columns"
   ]
  },
  {
   "cell_type": "code",
   "execution_count": 23,
   "id": "b4b701fe",
   "metadata": {},
   "outputs": [
    {
     "data": {
      "text/plain": [
       "<bound method DataFrame.reset_index of                      0         1         2\n",
       "cluster                                   \n",
       "재정자립도         1.173018 -0.550149 -0.541929\n",
       "고령인구 비율      -1.285672  0.503139  0.793662\n",
       "10만 명당 약국 수  -0.091799 -0.526289  1.181096\n",
       "10만 명당 자동차 수 -1.091774  0.557231  0.414022>"
      ]
     },
     "execution_count": 23,
     "metadata": {},
     "output_type": "execute_result"
    }
   ],
   "source": [
    "a.reset_index"
   ]
  },
  {
   "cell_type": "code",
   "execution_count": 25,
   "id": "7539c413",
   "metadata": {},
   "outputs": [
    {
     "data": {
      "text/html": [
       "<div>\n",
       "<style scoped>\n",
       "    .dataframe tbody tr th:only-of-type {\n",
       "        vertical-align: middle;\n",
       "    }\n",
       "\n",
       "    .dataframe tbody tr th {\n",
       "        vertical-align: top;\n",
       "    }\n",
       "\n",
       "    .dataframe thead th {\n",
       "        text-align: right;\n",
       "    }\n",
       "</style>\n",
       "<table border=\"1\" class=\"dataframe\">\n",
       "  <thead>\n",
       "    <tr style=\"text-align: right;\">\n",
       "      <th></th>\n",
       "      <th>0</th>\n",
       "      <th>1</th>\n",
       "      <th>2</th>\n",
       "    </tr>\n",
       "  </thead>\n",
       "  <tbody>\n",
       "    <tr>\n",
       "      <th>0</th>\n",
       "      <td>1.173018</td>\n",
       "      <td>-0.550149</td>\n",
       "      <td>-0.541929</td>\n",
       "    </tr>\n",
       "    <tr>\n",
       "      <th>1</th>\n",
       "      <td>-1.285672</td>\n",
       "      <td>0.503139</td>\n",
       "      <td>0.793662</td>\n",
       "    </tr>\n",
       "    <tr>\n",
       "      <th>2</th>\n",
       "      <td>-0.091799</td>\n",
       "      <td>-0.526289</td>\n",
       "      <td>1.181096</td>\n",
       "    </tr>\n",
       "    <tr>\n",
       "      <th>3</th>\n",
       "      <td>-1.091774</td>\n",
       "      <td>0.557231</td>\n",
       "      <td>0.414022</td>\n",
       "    </tr>\n",
       "  </tbody>\n",
       "</table>\n",
       "</div>"
      ],
      "text/plain": [
       "          0         1         2\n",
       "0  1.173018 -0.550149 -0.541929\n",
       "1 -1.285672  0.503139  0.793662\n",
       "2 -0.091799 -0.526289  1.181096\n",
       "3 -1.091774  0.557231  0.414022"
      ]
     },
     "execution_count": 25,
     "metadata": {},
     "output_type": "execute_result"
    }
   ],
   "source": [
    "a.reset_index(drop=True)"
   ]
  },
  {
   "cell_type": "code",
   "execution_count": 26,
   "id": "7660d7a7",
   "metadata": {},
   "outputs": [
    {
     "data": {
      "text/html": [
       "<div>\n",
       "<style scoped>\n",
       "    .dataframe tbody tr th:only-of-type {\n",
       "        vertical-align: middle;\n",
       "    }\n",
       "\n",
       "    .dataframe tbody tr th {\n",
       "        vertical-align: top;\n",
       "    }\n",
       "\n",
       "    .dataframe thead th {\n",
       "        text-align: right;\n",
       "    }\n",
       "</style>\n",
       "<table border=\"1\" class=\"dataframe\">\n",
       "  <thead>\n",
       "    <tr style=\"text-align: right;\">\n",
       "      <th></th>\n",
       "      <th>0</th>\n",
       "      <th>1</th>\n",
       "      <th>2</th>\n",
       "    </tr>\n",
       "    <tr>\n",
       "      <th>cluster</th>\n",
       "      <th></th>\n",
       "      <th></th>\n",
       "      <th></th>\n",
       "    </tr>\n",
       "  </thead>\n",
       "  <tbody>\n",
       "    <tr>\n",
       "      <th>재정자립도</th>\n",
       "      <td>1.173018</td>\n",
       "      <td>-0.550149</td>\n",
       "      <td>-0.541929</td>\n",
       "    </tr>\n",
       "    <tr>\n",
       "      <th>고령인구 비율</th>\n",
       "      <td>-1.285672</td>\n",
       "      <td>0.503139</td>\n",
       "      <td>0.793662</td>\n",
       "    </tr>\n",
       "    <tr>\n",
       "      <th>10만 명당 약국 수</th>\n",
       "      <td>-0.091799</td>\n",
       "      <td>-0.526289</td>\n",
       "      <td>1.181096</td>\n",
       "    </tr>\n",
       "    <tr>\n",
       "      <th>10만 명당 자동차 수</th>\n",
       "      <td>-1.091774</td>\n",
       "      <td>0.557231</td>\n",
       "      <td>0.414022</td>\n",
       "    </tr>\n",
       "  </tbody>\n",
       "</table>\n",
       "</div>"
      ],
      "text/plain": [
       "                     0         1         2\n",
       "cluster                                   \n",
       "재정자립도         1.173018 -0.550149 -0.541929\n",
       "고령인구 비율      -1.285672  0.503139  0.793662\n",
       "10만 명당 약국 수  -0.091799 -0.526289  1.181096\n",
       "10만 명당 자동차 수 -1.091774  0.557231  0.414022"
      ]
     },
     "execution_count": 26,
     "metadata": {},
     "output_type": "execute_result"
    }
   ],
   "source": [
    "a"
   ]
  },
  {
   "cell_type": "code",
   "execution_count": 27,
   "id": "33f54f59",
   "metadata": {},
   "outputs": [
    {
     "data": {
      "text/html": [
       "<div>\n",
       "<style scoped>\n",
       "    .dataframe tbody tr th:only-of-type {\n",
       "        vertical-align: middle;\n",
       "    }\n",
       "\n",
       "    .dataframe tbody tr th {\n",
       "        vertical-align: top;\n",
       "    }\n",
       "\n",
       "    .dataframe thead th {\n",
       "        text-align: right;\n",
       "    }\n",
       "</style>\n",
       "<table border=\"1\" class=\"dataframe\">\n",
       "  <thead>\n",
       "    <tr style=\"text-align: right;\">\n",
       "      <th></th>\n",
       "      <th>cluster</th>\n",
       "      <th>0</th>\n",
       "      <th>1</th>\n",
       "      <th>2</th>\n",
       "    </tr>\n",
       "  </thead>\n",
       "  <tbody>\n",
       "    <tr>\n",
       "      <th>0</th>\n",
       "      <td>재정자립도</td>\n",
       "      <td>1.173018</td>\n",
       "      <td>-0.550149</td>\n",
       "      <td>-0.541929</td>\n",
       "    </tr>\n",
       "    <tr>\n",
       "      <th>1</th>\n",
       "      <td>고령인구 비율</td>\n",
       "      <td>-1.285672</td>\n",
       "      <td>0.503139</td>\n",
       "      <td>0.793662</td>\n",
       "    </tr>\n",
       "    <tr>\n",
       "      <th>2</th>\n",
       "      <td>10만 명당 약국 수</td>\n",
       "      <td>-0.091799</td>\n",
       "      <td>-0.526289</td>\n",
       "      <td>1.181096</td>\n",
       "    </tr>\n",
       "    <tr>\n",
       "      <th>3</th>\n",
       "      <td>10만 명당 자동차 수</td>\n",
       "      <td>-1.091774</td>\n",
       "      <td>0.557231</td>\n",
       "      <td>0.414022</td>\n",
       "    </tr>\n",
       "  </tbody>\n",
       "</table>\n",
       "</div>"
      ],
      "text/plain": [
       "        cluster         0         1         2\n",
       "0         재정자립도  1.173018 -0.550149 -0.541929\n",
       "1       고령인구 비율 -1.285672  0.503139  0.793662\n",
       "2   10만 명당 약국 수 -0.091799 -0.526289  1.181096\n",
       "3  10만 명당 자동차 수 -1.091774  0.557231  0.414022"
      ]
     },
     "execution_count": 27,
     "metadata": {},
     "output_type": "execute_result"
    }
   ],
   "source": [
    "df = pd.read_csv('a.csv')\n",
    "df"
   ]
  },
  {
   "cell_type": "code",
   "execution_count": null,
   "id": "cccd6b7a",
   "metadata": {},
   "outputs": [],
   "source": []
  }
 ],
 "metadata": {
  "kernelspec": {
   "display_name": "Python 3 (ipykernel)",
   "language": "python",
   "name": "python3"
  },
  "language_info": {
   "codemirror_mode": {
    "name": "ipython",
    "version": 3
   },
   "file_extension": ".py",
   "mimetype": "text/x-python",
   "name": "python",
   "nbconvert_exporter": "python",
   "pygments_lexer": "ipython3",
   "version": "3.9.7"
  }
 },
 "nbformat": 4,
 "nbformat_minor": 5
}
