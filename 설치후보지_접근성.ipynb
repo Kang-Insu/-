{
 "cells": [
  {
   "cell_type": "markdown",
   "id": "029a1e8f",
   "metadata": {},
   "source": [
    "access_healthA : 보건소 접근성\n",
    "\n",
    "access_healthB : 보건지소 접근성\n",
    "\n",
    "access_healthC : 보건진료소 접근성"
   ]
  },
  {
   "cell_type": "code",
   "execution_count": 4,
   "id": "c0fd4fbf",
   "metadata": {},
   "outputs": [],
   "source": [
    "import pandas as pd\n",
    "import numpy as np"
   ]
  },
  {
   "cell_type": "markdown",
   "id": "479899ef",
   "metadata": {},
   "source": [
    "## 경로당, 마을회관 전처리"
   ]
  },
  {
   "cell_type": "code",
   "execution_count": 117,
   "id": "8b1ec12d",
   "metadata": {},
   "outputs": [],
   "source": [
    "access_welfare_DamYang = pd.read_csv('qgis/담양군마을회관_접근성.csv',encoding='cp949')\n",
    "access_welfare_ShinAhn = pd.read_csv('qgis/신안군마을회관_접근성.csv',encoding='cp949')\n",
    "access_welfare_HamPyeong = pd.read_csv('qgis/함평군경로당_접근성.csv',encoding='cp949')\n",
    "access_healthA = pd.read_csv('qgis/보건소_접근성.csv',encoding='cp949')\n",
    "access_healthB = pd.read_csv('qgis/보건지소_접근성.csv',encoding='cp949')\n",
    "access_healthC = pd.read_csv('qgis/보건진료소_접근성.csv',encoding='cp949')\n",
    "# access_drugstore_DamYang = pd.read_csv('qgis/신안군마을회관_접근성.csv',encoding='cp949')\n",
    "# access_drugstore_ShinAhn = pd.read_csv('qgis/신안군마을회관_접근성.csv',encoding='cp949')\n",
    "# access_drugstore_HamPyeong = pd.read_csv('qgis/신안군마을회관_접근성.csv',encoding='cp949')"
   ]
  },
  {
   "cell_type": "code",
   "execution_count": 118,
   "id": "86dfef43",
   "metadata": {},
   "outputs": [
    {
     "name": "stdout",
     "output_type": "stream",
     "text": [
      "Index(['fid', '시도명', '시군구명', '읍면명', '회관명', '소재지', 'Latitude', 'Longitude',\n",
      "       '규모(제곱미터)', '데이터기준일자', 'ringId', 'distance', 'NUMPOINTS'],\n",
      "      dtype='object')\n",
      "Index(['fid', '경로당명', '주소', 'Latitude', 'Longitude', '연락처', 'ringId',\n",
      "       'distance', 'NUMPOINTS'],\n",
      "      dtype='object')\n",
      "Index(['fid', '마을회관명', '소재지도로명주소', 'Latitude', 'Longitude', '회원수', '대표자',\n",
      "       '대지면적', '건축면적', '데이터기준일자', 'ringId', 'distance', 'NUMPOINTS'],\n",
      "      dtype='object')\n"
     ]
    }
   ],
   "source": [
    "print(access_welfare_DamYang.keys())\n",
    "print(access_welfare_HamPyeong.keys())\n",
    "print(access_welfare_ShinAhn.keys())"
   ]
  },
  {
   "cell_type": "code",
   "execution_count": 119,
   "id": "f144cd50",
   "metadata": {},
   "outputs": [],
   "source": [
    "access_welfare_DamYang.rename(columns={'회관명':'name','시군구명':'city'},inplace=True)\n",
    "access_welfare_ShinAhn.rename(columns={'마을회관명':'name'},inplace=True)\n",
    "access_welfare_HamPyeong.rename(columns={'경로당명':'name'},inplace=True)"
   ]
  },
  {
   "cell_type": "code",
   "execution_count": 120,
   "id": "c64b8a46",
   "metadata": {},
   "outputs": [],
   "source": [
    "access_welfare_ShinAhn['city'] = '신안군'\n",
    "access_welfare_HamPyeong['city'] = '함평군'"
   ]
  },
  {
   "cell_type": "code",
   "execution_count": 121,
   "id": "ce497c58",
   "metadata": {},
   "outputs": [],
   "source": [
    "access_welfare_DamYang = access_welfare_DamYang[['name','city','Latitude','Longitude','NUMPOINTS']]\n",
    "access_welfare_ShinAhn = access_welfare_ShinAhn[['name','city','Latitude','Longitude','NUMPOINTS']]\n",
    "access_welfare_HamPyeong = access_welfare_HamPyeong[['name','city','Latitude','Longitude','NUMPOINTS']]"
   ]
  },
  {
   "cell_type": "code",
   "execution_count": 122,
   "id": "259f5349",
   "metadata": {},
   "outputs": [
    {
     "name": "stdout",
     "output_type": "stream",
     "text": [
      "Index(['name', 'city', 'Latitude', 'Longitude', 'NUMPOINTS'], dtype='object')\n",
      "Index(['name', 'city', 'Latitude', 'Longitude', 'NUMPOINTS'], dtype='object')\n",
      "Index(['name', 'city', 'Latitude', 'Longitude', 'NUMPOINTS'], dtype='object')\n"
     ]
    }
   ],
   "source": [
    "print(access_welfare_DamYang.keys())\n",
    "print(access_welfare_HamPyeong.keys())\n",
    "print(access_welfare_ShinAhn.keys())"
   ]
  },
  {
   "cell_type": "markdown",
   "id": "f6fffee7",
   "metadata": {},
   "source": [
    "## 보건소, 보건지소, 보건진료소 전처리"
   ]
  },
  {
   "cell_type": "code",
   "execution_count": 123,
   "id": "042d2c8b",
   "metadata": {},
   "outputs": [],
   "source": [
    "access_healthA = pd.read_csv('qgis/보건소_접근성.csv',encoding='cp949')\n",
    "access_healthB = pd.read_csv('qgis/보건지소_접근성.csv',encoding='cp949')\n",
    "access_healthC = pd.read_csv('qgis/보건진료소_접근성.csv',encoding='cp949')"
   ]
  },
  {
   "cell_type": "code",
   "execution_count": 124,
   "id": "b8093183",
   "metadata": {},
   "outputs": [
    {
     "name": "stdout",
     "output_type": "stream",
     "text": [
      "Index(['fid', '보건소명', 'Latitude', 'Longitude', '일반전화', '팩스', '우편번호', '도로명주소',\n",
      "       '위치', '데이터기준일자', 'ringId', 'distance', 'NUMPOINTS'],\n",
      "      dtype='object')\n",
      "Index(['fid', '연번', '시군명', '기관장', '기관명', '소재지 (도로명 주소)', 'Latitude',\n",
      "       'Longitude', '전화번호', '진료과목', '진료시간', '비고', '데이터기준일자', 'ringId',\n",
      "       'distance', 'NUMPOINTS'],\n",
      "      dtype='object')\n",
      "Index(['fid', '연번', '시군명', '기관장', '기관명', '소재지 (도로명 주소)', 'Latitude',\n",
      "       'Longitude', '전화번호', '진료과목', '진료시간', '비고', '데이터기준일자', 'ringId',\n",
      "       'distance', 'NUMPOINTS'],\n",
      "      dtype='object')\n"
     ]
    }
   ],
   "source": [
    "print(access_healthA.keys())\n",
    "print(access_healthB.keys())\n",
    "print(access_healthC.keys())"
   ]
  },
  {
   "cell_type": "code",
   "execution_count": 125,
   "id": "8cd245ac",
   "metadata": {},
   "outputs": [],
   "source": [
    "access_healthA.rename(columns={'보건소명':'name'},inplace=True)\n",
    "access_healthB.rename(columns={'기관명':'name','시군명':'city'},inplace=True)\n",
    "access_healthC.rename(columns={'기관명':'name','시군명':'city'},inplace=True)"
   ]
  },
  {
   "cell_type": "code",
   "execution_count": 126,
   "id": "f6f77d2a",
   "metadata": {},
   "outputs": [
    {
     "data": {
      "text/html": [
       "<div>\n",
       "<style scoped>\n",
       "    .dataframe tbody tr th:only-of-type {\n",
       "        vertical-align: middle;\n",
       "    }\n",
       "\n",
       "    .dataframe tbody tr th {\n",
       "        vertical-align: top;\n",
       "    }\n",
       "\n",
       "    .dataframe thead th {\n",
       "        text-align: right;\n",
       "    }\n",
       "</style>\n",
       "<table border=\"1\" class=\"dataframe\">\n",
       "  <thead>\n",
       "    <tr style=\"text-align: right;\">\n",
       "      <th></th>\n",
       "      <th>fid</th>\n",
       "      <th>name</th>\n",
       "      <th>Latitude</th>\n",
       "      <th>Longitude</th>\n",
       "      <th>일반전화</th>\n",
       "      <th>팩스</th>\n",
       "      <th>우편번호</th>\n",
       "      <th>도로명주소</th>\n",
       "      <th>위치</th>\n",
       "      <th>데이터기준일자</th>\n",
       "      <th>ringId</th>\n",
       "      <th>distance</th>\n",
       "      <th>NUMPOINTS</th>\n",
       "    </tr>\n",
       "  </thead>\n",
       "  <tbody>\n",
       "    <tr>\n",
       "      <th>0</th>\n",
       "      <td>22</td>\n",
       "      <td>신안군보건소</td>\n",
       "      <td>34.833572</td>\n",
       "      <td>126.352547</td>\n",
       "      <td>061-271-1004</td>\n",
       "      <td>061-240-8000</td>\n",
       "      <td>58827</td>\n",
       "      <td>전라남도 신안군 압해읍 천사로 1004</td>\n",
       "      <td>압해대교 끝 좌회전</td>\n",
       "      <td>2021/08/01</td>\n",
       "      <td>1</td>\n",
       "      <td>1000</td>\n",
       "      <td>7</td>\n",
       "    </tr>\n",
       "  </tbody>\n",
       "</table>\n",
       "</div>"
      ],
      "text/plain": [
       "   fid    name   Latitude   Longitude          일반전화            팩스   우편번호  \\\n",
       "0   22  신안군보건소  34.833572  126.352547  061-271-1004  061-240-8000  58827   \n",
       "\n",
       "                   도로명주소          위치     데이터기준일자  ringId  distance  NUMPOINTS  \n",
       "0  전라남도 신안군 압해읍 천사로 1004  압해대교 끝 좌회전  2021/08/01       1      1000          7  "
      ]
     },
     "execution_count": 126,
     "metadata": {},
     "output_type": "execute_result"
    }
   ],
   "source": [
    "access_healthA"
   ]
  },
  {
   "cell_type": "code",
   "execution_count": 127,
   "id": "4b6584b0",
   "metadata": {},
   "outputs": [],
   "source": [
    "access_healthA['city'] = '신안군'"
   ]
  },
  {
   "cell_type": "code",
   "execution_count": 128,
   "id": "27478245",
   "metadata": {},
   "outputs": [],
   "source": [
    "access_healthA = access_healthA[['name','city','Latitude','Longitude','NUMPOINTS']]\n",
    "access_healthB = access_healthB[['name','city','Latitude','Longitude','NUMPOINTS']]\n",
    "access_healthC = access_healthC[['name','city','Latitude','Longitude','NUMPOINTS']]"
   ]
  },
  {
   "cell_type": "code",
   "execution_count": 129,
   "id": "6c328e4c",
   "metadata": {},
   "outputs": [
    {
     "name": "stdout",
     "output_type": "stream",
     "text": [
      "Index(['name', 'city', 'Latitude', 'Longitude', 'NUMPOINTS'], dtype='object')\n",
      "Index(['name', 'city', 'Latitude', 'Longitude', 'NUMPOINTS'], dtype='object')\n",
      "Index(['name', 'city', 'Latitude', 'Longitude', 'NUMPOINTS'], dtype='object')\n"
     ]
    }
   ],
   "source": [
    "print(access_healthA.keys())\n",
    "print(access_healthB.keys())\n",
    "print(access_healthC.keys())"
   ]
  },
  {
   "cell_type": "markdown",
   "id": "e01051d8",
   "metadata": {},
   "source": [
    "## 약국 전처리"
   ]
  },
  {
   "cell_type": "code",
   "execution_count": 130,
   "id": "23d8fe07",
   "metadata": {},
   "outputs": [],
   "source": [
    "access_drugstore_DamYang = pd.read_csv('qgis/약국_담양_접근성.csv',encoding='cp949')\n",
    "access_drugstore_ShinAhn = pd.read_csv('qgis/약국_신안_접근성.csv',encoding='cp949')\n",
    "access_drugstore_HamPyeong = pd.read_csv('qgis/약국_함평_접근성.csv',encoding='cp949')"
   ]
  },
  {
   "cell_type": "code",
   "execution_count": 131,
   "id": "a38ff6f6",
   "metadata": {},
   "outputs": [
    {
     "name": "stdout",
     "output_type": "stream",
     "text": [
      "Index(['fid', 'field_1', 'Unnamed: 0', '약국명_y', '주소_y', '전화번호', '좌표정보(X)',\n",
      "       '좌표정보(Y)', '월요일 운영', '화요일 운영', '수요일 운영', '목요일 운영', '금요일 운영', '토요일 운영',\n",
      "       '일요일 운영', '공휴일 운영', 'CLUSTER_ID', 'CLUSTER_SIZE', 'ringId', 'distance',\n",
      "       'NUMPOINTS'],\n",
      "      dtype='object')\n",
      "Index(['fid', 'field_1', 'Unnamed: 0', '약국명_y', '주소_y', '전화번호', '좌표정보(X)',\n",
      "       '좌표정보(Y)', '월요일 운영', '화요일 운영', '수요일 운영', '목요일 운영', '금요일 운영', '토요일 운영',\n",
      "       '일요일 운영', '공휴일 운영', 'CLUSTER_ID', 'CLUSTER_SIZE', 'ringId', 'distance',\n",
      "       'NUMPOINTS'],\n",
      "      dtype='object')\n",
      "Index(['fid', 'field_1', 'Unnamed: 0', '약국명_y', '주소_y', '전화번호', '좌표정보(X)',\n",
      "       '좌표정보(Y)', '월요일 운영', '화요일 운영', '수요일 운영', '목요일 운영', '금요일 운영', '토요일 운영',\n",
      "       '일요일 운영', '공휴일 운영', 'CLUSTER_ID', 'CLUSTER_SIZE', 'ringId', 'distance',\n",
      "       'NUMPOINTS'],\n",
      "      dtype='object')\n"
     ]
    }
   ],
   "source": [
    "print(access_drugstore_DamYang.keys())\n",
    "print(access_drugstore_HamPyeong.keys())\n",
    "print(access_drugstore_ShinAhn.keys())"
   ]
  },
  {
   "cell_type": "code",
   "execution_count": 132,
   "id": "3e781ae5",
   "metadata": {},
   "outputs": [],
   "source": [
    "access_drugstore_DamYang.rename(columns={'약국명_y':'name','좌표정보(X)':'Longitude','좌표정보(Y)':'Latitude'},inplace=True)\n",
    "access_drugstore_HamPyeong.rename(columns={'약국명_y':'name','좌표정보(X)':'Longitude','좌표정보(Y)':'Latitude'},inplace=True)\n",
    "access_drugstore_ShinAhn.rename(columns={'약국명_y':'name','좌표정보(X)':'Longitude','좌표정보(Y)':'Latitude'},inplace=True)\n",
    "access_drugstore_DamYang['city'] = '담양군'\n",
    "access_drugstore_HamPyeong['city'] = '함평군'\n",
    "access_drugstore_ShinAhn['city'] = '신안군'"
   ]
  },
  {
   "cell_type": "code",
   "execution_count": 133,
   "id": "f49c6c34",
   "metadata": {},
   "outputs": [
    {
     "name": "stdout",
     "output_type": "stream",
     "text": [
      "Index(['name', 'city', 'Latitude', 'Longitude', 'NUMPOINTS'], dtype='object')\n",
      "Index(['name', 'city', 'Latitude', 'Longitude', 'NUMPOINTS'], dtype='object')\n",
      "Index(['name', 'city', 'Latitude', 'Longitude', 'NUMPOINTS'], dtype='object')\n"
     ]
    }
   ],
   "source": [
    "access_drugstore_DamYang = access_drugstore_DamYang[['name','city','Latitude','Longitude','NUMPOINTS']]\n",
    "access_drugstore_HamPyeong = access_drugstore_HamPyeong[['name','city','Latitude','Longitude','NUMPOINTS']]\n",
    "access_drugstore_ShinAhn =access_drugstore_ShinAhn[['name','city','Latitude','Longitude','NUMPOINTS']]\n",
    "print(access_drugstore_DamYang.keys())\n",
    "print(access_drugstore_HamPyeong.keys())\n",
    "print(access_drugstore_ShinAhn.keys())"
   ]
  },
  {
   "cell_type": "code",
   "execution_count": 134,
   "id": "97af661e",
   "metadata": {
    "scrolled": true
   },
   "outputs": [
    {
     "name": "stdout",
     "output_type": "stream",
     "text": [
      "<class 'pandas.core.frame.DataFrame'>\n",
      "RangeIndex: 393 entries, 0 to 392\n",
      "Data columns (total 5 columns):\n",
      " #   Column     Non-Null Count  Dtype  \n",
      "---  ------     --------------  -----  \n",
      " 0   name       393 non-null    object \n",
      " 1   city       393 non-null    object \n",
      " 2   Latitude   79 non-null     float64\n",
      " 3   Longitude  79 non-null     float64\n",
      " 4   NUMPOINTS  393 non-null    int64  \n",
      "dtypes: float64(2), int64(1), object(2)\n",
      "memory usage: 15.5+ KB\n"
     ]
    }
   ],
   "source": [
    "# 신안에서 NULL값 발견\n",
    "access_welfare_ShinAhn.info()"
   ]
  },
  {
   "cell_type": "code",
   "execution_count": 135,
   "id": "a6ff1f14",
   "metadata": {},
   "outputs": [],
   "source": [
    "all = pd.read_csv('qgis/2차_전체병합_접근성.csv',encoding='cp949')"
   ]
  },
  {
   "cell_type": "code",
   "execution_count": 136,
   "id": "0cfc93bc",
   "metadata": {},
   "outputs": [
    {
     "data": {
      "text/plain": [
       "Index(['fid', 'field_1', 'Unnamed: 0', '약국명_y', '주소_y', '전화번호', '좌표정보(X)',\n",
       "       '좌표정보(Y)', '월요일 운영', '화요일 운영', '수요일 운영', '목요일 운영', '금요일 운영', '토요일 운영',\n",
       "       '일요일 운영', '공휴일 운영', '시도명', '시군구명', '읍면명', '회관명', '소재지', 'Latitude',\n",
       "       'Longitude', '규모(제곱미터)', '데이터기준일자', '마을회관명', '소재지도로명주소', '회원수', '대표자',\n",
       "       '대지면적', '건축면적', '경로당명', '주소', '연락처', '연번', '명칭', '관장', '시설소재지', '시설설치일',\n",
       "       '위탁 또는 운영단체', '보건소명', '일반전화', '팩스', '우편번호', '도로명주소', '위치', '시군명', '기관장',\n",
       "       '기관명', '소재지 (도로명 주소)', '진료과목', '진료시간', '비고', 'layer', 'path', 'ringId',\n",
       "       'distance', 'NUMPOINTS'],\n",
       "      dtype='object')"
      ]
     },
     "execution_count": 136,
     "metadata": {},
     "output_type": "execute_result"
    }
   ],
   "source": [
    "all.keys()"
   ]
  },
  {
   "cell_type": "code",
   "execution_count": 137,
   "id": "ea76a650",
   "metadata": {
    "scrolled": true
   },
   "outputs": [
    {
     "data": {
      "text/html": [
       "<div>\n",
       "<style scoped>\n",
       "    .dataframe tbody tr th:only-of-type {\n",
       "        vertical-align: middle;\n",
       "    }\n",
       "\n",
       "    .dataframe tbody tr th {\n",
       "        vertical-align: top;\n",
       "    }\n",
       "\n",
       "    .dataframe thead th {\n",
       "        text-align: right;\n",
       "    }\n",
       "</style>\n",
       "<table border=\"1\" class=\"dataframe\">\n",
       "  <thead>\n",
       "    <tr style=\"text-align: right;\">\n",
       "      <th></th>\n",
       "      <th>마을회관명</th>\n",
       "      <th>Latitude</th>\n",
       "      <th>Longitude</th>\n",
       "      <th>NUMPOINTS</th>\n",
       "    </tr>\n",
       "  </thead>\n",
       "  <tbody>\n",
       "    <tr>\n",
       "      <th>714</th>\n",
       "      <td>원심동</td>\n",
       "      <td>35.098625</td>\n",
       "      <td>126.191315</td>\n",
       "      <td>12</td>\n",
       "    </tr>\n",
       "    <tr>\n",
       "      <th>715</th>\n",
       "      <td>당촌</td>\n",
       "      <td>35.043330</td>\n",
       "      <td>126.152232</td>\n",
       "      <td>3</td>\n",
       "    </tr>\n",
       "    <tr>\n",
       "      <th>716</th>\n",
       "      <td>선도(진변)</td>\n",
       "      <td>34.976943</td>\n",
       "      <td>126.269537</td>\n",
       "      <td>0</td>\n",
       "    </tr>\n",
       "    <tr>\n",
       "      <th>717</th>\n",
       "      <td>태천1</td>\n",
       "      <td>35.035199</td>\n",
       "      <td>126.242300</td>\n",
       "      <td>2</td>\n",
       "    </tr>\n",
       "    <tr>\n",
       "      <th>718</th>\n",
       "      <td>둔곡</td>\n",
       "      <td>35.085599</td>\n",
       "      <td>126.217201</td>\n",
       "      <td>0</td>\n",
       "    </tr>\n",
       "    <tr>\n",
       "      <th>...</th>\n",
       "      <td>...</td>\n",
       "      <td>...</td>\n",
       "      <td>...</td>\n",
       "      <td>...</td>\n",
       "    </tr>\n",
       "    <tr>\n",
       "      <th>788</th>\n",
       "      <td>가룡3</td>\n",
       "      <td>34.907635</td>\n",
       "      <td>126.287333</td>\n",
       "      <td>1</td>\n",
       "    </tr>\n",
       "    <tr>\n",
       "      <th>789</th>\n",
       "      <td>복룡2</td>\n",
       "      <td>34.899009</td>\n",
       "      <td>126.325698</td>\n",
       "      <td>4</td>\n",
       "    </tr>\n",
       "    <tr>\n",
       "      <th>790</th>\n",
       "      <td>가란</td>\n",
       "      <td>34.874143</td>\n",
       "      <td>126.365690</td>\n",
       "      <td>0</td>\n",
       "    </tr>\n",
       "    <tr>\n",
       "      <th>791</th>\n",
       "      <td>숭의</td>\n",
       "      <td>34.860998</td>\n",
       "      <td>126.351278</td>\n",
       "      <td>3</td>\n",
       "    </tr>\n",
       "    <tr>\n",
       "      <th>792</th>\n",
       "      <td>마산</td>\n",
       "      <td>34.952552</td>\n",
       "      <td>126.249209</td>\n",
       "      <td>0</td>\n",
       "    </tr>\n",
       "  </tbody>\n",
       "</table>\n",
       "<p>79 rows × 4 columns</p>\n",
       "</div>"
      ],
      "text/plain": [
       "      마을회관명   Latitude   Longitude  NUMPOINTS\n",
       "714     원심동  35.098625  126.191315         12\n",
       "715      당촌  35.043330  126.152232          3\n",
       "716  선도(진변)  34.976943  126.269537          0\n",
       "717     태천1  35.035199  126.242300          2\n",
       "718      둔곡  35.085599  126.217201          0\n",
       "..      ...        ...         ...        ...\n",
       "788     가룡3  34.907635  126.287333          1\n",
       "789     복룡2  34.899009  126.325698          4\n",
       "790      가란  34.874143  126.365690          0\n",
       "791      숭의  34.860998  126.351278          3\n",
       "792      마산  34.952552  126.249209          0\n",
       "\n",
       "[79 rows x 4 columns]"
      ]
     },
     "execution_count": 137,
     "metadata": {},
     "output_type": "execute_result"
    }
   ],
   "source": [
    "all = all[all.layer == '경로당_신안'][['마을회관명','Latitude','Longitude','NUMPOINTS']]\n",
    "all"
   ]
  },
  {
   "cell_type": "code",
   "execution_count": 138,
   "id": "ec6bfddd",
   "metadata": {},
   "outputs": [
    {
     "name": "stdout",
     "output_type": "stream",
     "text": [
      "<class 'pandas.core.frame.DataFrame'>\n",
      "Int64Index: 79 entries, 714 to 792\n",
      "Data columns (total 5 columns):\n",
      " #   Column     Non-Null Count  Dtype  \n",
      "---  ------     --------------  -----  \n",
      " 0   name       79 non-null     object \n",
      " 1   Latitude   79 non-null     float64\n",
      " 2   Longitude  79 non-null     float64\n",
      " 3   NUMPOINTS  79 non-null     int64  \n",
      " 4   city       79 non-null     object \n",
      "dtypes: float64(2), int64(1), object(2)\n",
      "memory usage: 3.7+ KB\n"
     ]
    }
   ],
   "source": [
    "access_welfare_ShinAhn = all.copy()\n",
    "access_welfare_ShinAhn['city'] = '신안군'\n",
    "access_welfare_ShinAhn.rename(columns={'마을회관명':'name'},inplace=True)\n",
    "access_welfare_ShinAhn.info()"
   ]
  },
  {
   "cell_type": "code",
   "execution_count": 139,
   "id": "e08a58c1",
   "metadata": {},
   "outputs": [],
   "source": [
    "# 병합\n",
    "access = pd.concat([access_welfare_DamYang,access_welfare_ShinAhn,access_welfare_HamPyeong,\n",
    "                   access_healthA,access_healthB,access_healthC,\n",
    "                   access_drugstore_DamYang,access_drugstore_ShinAhn,access_drugstore_HamPyeong],\n",
    "                   axis=0,\n",
    "                   ignore_index=True)"
   ]
  },
  {
   "cell_type": "code",
   "execution_count": 140,
   "id": "ac66d6d1",
   "metadata": {},
   "outputs": [
    {
     "name": "stdout",
     "output_type": "stream",
     "text": [
      "<class 'pandas.core.frame.DataFrame'>\n",
      "RangeIndex: 815 entries, 0 to 814\n",
      "Data columns (total 5 columns):\n",
      " #   Column     Non-Null Count  Dtype  \n",
      "---  ------     --------------  -----  \n",
      " 0   name       815 non-null    object \n",
      " 1   city       815 non-null    object \n",
      " 2   Latitude   814 non-null    float64\n",
      " 3   Longitude  814 non-null    float64\n",
      " 4   NUMPOINTS  815 non-null    int64  \n",
      "dtypes: float64(2), int64(1), object(2)\n",
      "memory usage: 32.0+ KB\n"
     ]
    }
   ],
   "source": [
    "access.info()"
   ]
  },
  {
   "cell_type": "code",
   "execution_count": 141,
   "id": "17ce4535",
   "metadata": {},
   "outputs": [
    {
     "name": "stdout",
     "output_type": "stream",
     "text": [
      "<class 'pandas.core.frame.DataFrame'>\n",
      "Int64Index: 814 entries, 0 to 814\n",
      "Data columns (total 5 columns):\n",
      " #   Column     Non-Null Count  Dtype  \n",
      "---  ------     --------------  -----  \n",
      " 0   name       814 non-null    object \n",
      " 1   city       814 non-null    object \n",
      " 2   Latitude   814 non-null    float64\n",
      " 3   Longitude  814 non-null    float64\n",
      " 4   NUMPOINTS  814 non-null    int64  \n",
      "dtypes: float64(2), int64(1), object(2)\n",
      "memory usage: 38.2+ KB\n"
     ]
    }
   ],
   "source": [
    "access.dropna(inplace=True)\n",
    "access.info()"
   ]
  },
  {
   "cell_type": "code",
   "execution_count": 147,
   "id": "48f0edd6",
   "metadata": {},
   "outputs": [],
   "source": [
    "access.to_csv('qgis/접근성.csv',encoding='cp949')"
   ]
  },
  {
   "cell_type": "code",
   "execution_count": null,
   "id": "6eef214b",
   "metadata": {},
   "outputs": [],
   "source": []
  }
 ],
 "metadata": {
  "kernelspec": {
   "display_name": "Python 3 (ipykernel)",
   "language": "python",
   "name": "python3"
  },
  "language_info": {
   "codemirror_mode": {
    "name": "ipython",
    "version": 3
   },
   "file_extension": ".py",
   "mimetype": "text/x-python",
   "name": "python",
   "nbconvert_exporter": "python",
   "pygments_lexer": "ipython3",
   "version": "3.9.7"
  }
 },
 "nbformat": 4,
 "nbformat_minor": 5
}
